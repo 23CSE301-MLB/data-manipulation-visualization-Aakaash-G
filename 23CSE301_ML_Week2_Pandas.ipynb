{
  "nbformat": 4,
  "nbformat_minor": 0,
  "metadata": {
    "colab": {
      "provenance": []
    },
    "kernelspec": {
      "name": "python3",
      "display_name": "Python 3"
    },
    "language_info": {
      "name": "python"
    }
  },
  "cells": [
    {
      "cell_type": "code",
      "execution_count": null,
      "metadata": {
        "id": "5C5GP0qzZxIg"
      },
      "outputs": [],
      "source": [
        "import pandas as pd"
      ]
    },
    {
      "cell_type": "code",
      "source": [
        "df = pd.read_csv('/content/sample_data/california_housing_test.csv')"
      ],
      "metadata": {
        "id": "FGX-cvJPZ7MC"
      },
      "execution_count": null,
      "outputs": []
    },
    {
      "cell_type": "code",
      "source": [
        "df.head()              # first 5 rows"
      ],
      "metadata": {
        "id": "lXtx2M0xaE8Q"
      },
      "execution_count": null,
      "outputs": []
    },
    {
      "cell_type": "code",
      "source": [
        "df.tail(3)             # last 3 rows"
      ],
      "metadata": {
        "id": "sTvCIkiPaIec"
      },
      "execution_count": null,
      "outputs": []
    },
    {
      "cell_type": "code",
      "source": [
        "df.shape               # (rows, columns)"
      ],
      "metadata": {
        "id": "9pXSPiNgaKRE"
      },
      "execution_count": null,
      "outputs": []
    },
    {
      "cell_type": "code",
      "source": [
        "df.info()              # summary info"
      ],
      "metadata": {
        "id": "Cdtv5iM-aMR9"
      },
      "execution_count": null,
      "outputs": []
    },
    {
      "cell_type": "code",
      "source": [
        "df.describe()          # statistical summary"
      ],
      "metadata": {
        "id": "LcfzirUFaOPM"
      },
      "execution_count": null,
      "outputs": []
    },
    {
      "cell_type": "code",
      "source": [
        "df.columns             # list of columns"
      ],
      "metadata": {
        "id": "02tmLfRHaQrM"
      },
      "execution_count": null,
      "outputs": []
    },
    {
      "cell_type": "code",
      "source": [
        "df.index               # row index"
      ],
      "metadata": {
        "id": "4pQHjmi4aTEs"
      },
      "execution_count": null,
      "outputs": []
    },
    {
      "cell_type": "code",
      "source": [
        "df.dtypes              # data types of columns"
      ],
      "metadata": {
        "id": "OPgLKMVsaVeU"
      },
      "execution_count": null,
      "outputs": []
    },
    {
      "cell_type": "code",
      "source": [
        "df.isnull().sum()      # count missing values"
      ],
      "metadata": {
        "id": "4pYcHAY7aYMF"
      },
      "execution_count": null,
      "outputs": []
    },
    {
      "cell_type": "code",
      "source": [
        "df.isnull()"
      ],
      "metadata": {
        "id": "wW6gmx3RiCxU"
      },
      "execution_count": null,
      "outputs": []
    },
    {
      "cell_type": "code",
      "source": [
        "df['longitude']"
      ],
      "metadata": {
        "id": "GDsICu32aZlE"
      },
      "execution_count": null,
      "outputs": []
    },
    {
      "cell_type": "code",
      "source": [
        "df[['longitude', 'total_bedrooms']]"
      ],
      "metadata": {
        "id": "aBucuybhahEE"
      },
      "execution_count": null,
      "outputs": []
    },
    {
      "cell_type": "code",
      "source": [
        "df.iloc[1]             # first row"
      ],
      "metadata": {
        "id": "V2jgWRBBaluU"
      },
      "execution_count": null,
      "outputs": []
    },
    {
      "cell_type": "code",
      "source": [
        "df.loc[0]              # row with index label 1"
      ],
      "metadata": {
        "id": "2RpAMfoNaqal"
      },
      "execution_count": null,
      "outputs": []
    },
    {
      "cell_type": "code",
      "source": [
        "df[df['longitude'] > -120]"
      ],
      "metadata": {
        "id": "HQM-G1r_ayiW"
      },
      "execution_count": null,
      "outputs": []
    },
    {
      "cell_type": "code",
      "source": [
        "df[(df['longitude'] > -120) & (df['latitude'] < 35)]"
      ],
      "metadata": {
        "id": "J4lk7QXYa889"
      },
      "execution_count": null,
      "outputs": []
    },
    {
      "cell_type": "code",
      "source": [
        "df.sort_values('total_rooms')                 # ascending"
      ],
      "metadata": {
        "id": "8mHK0-IEbHZd"
      },
      "execution_count": null,
      "outputs": []
    },
    {
      "cell_type": "code",
      "source": [
        "df.sort_values('total_bedrooms', ascending=False)  # descending"
      ],
      "metadata": {
        "id": "CLM3lxUSbP6c"
      },
      "execution_count": null,
      "outputs": []
    },
    {
      "cell_type": "code",
      "source": [
        "df['house_value_IRS'] = df['median_house_value'] * 85"
      ],
      "metadata": {
        "id": "xsIDshjEbWGV"
      },
      "execution_count": null,
      "outputs": []
    },
    {
      "cell_type": "code",
      "source": [
        "df.head()"
      ],
      "metadata": {
        "id": "Me_K_KTBbvkO"
      },
      "execution_count": null,
      "outputs": []
    },
    {
      "cell_type": "code",
      "source": [
        "df.drop('house_value_IRS', axis=1, inplace=True)"
      ],
      "metadata": {
        "id": "mSIeyqqrby2O"
      },
      "execution_count": null,
      "outputs": []
    },
    {
      "cell_type": "code",
      "source": [
        "df.drop(1, axis=0, inplace=True)"
      ],
      "metadata": {
        "id": "SqJj8eBdb5Vl"
      },
      "execution_count": null,
      "outputs": []
    },
    {
      "cell_type": "code",
      "source": [
        "df.isnull()"
      ],
      "metadata": {
        "id": "917I1xThb92O"
      },
      "execution_count": null,
      "outputs": []
    },
    {
      "cell_type": "code",
      "source": [
        "df.fillna(0)"
      ],
      "metadata": {
        "id": "PKiOHOsmcI6P"
      },
      "execution_count": null,
      "outputs": []
    },
    {
      "cell_type": "code",
      "source": [
        "df.dropna()"
      ],
      "metadata": {
        "id": "xAv25trXcMd2"
      },
      "execution_count": null,
      "outputs": []
    },
    {
      "cell_type": "code",
      "source": [
        "from sklearn.datasets import load_iris\n",
        "import pandas as pd\n",
        "\n",
        "iris = load_iris()\n",
        "df = pd.DataFrame(iris.data, columns=iris.feature_names)\n",
        "df['target'] = iris.target"
      ],
      "metadata": {
        "id": "V1HQ-e8ucOd2"
      },
      "execution_count": null,
      "outputs": []
    },
    {
      "cell_type": "code",
      "source": [
        "df.groupby('target').mean()"
      ],
      "metadata": {
        "id": "5EzaUgAecj95"
      },
      "execution_count": null,
      "outputs": []
    },
    {
      "cell_type": "code",
      "source": [
        "df1 = pd.read_csv('/content/sample_data/california_housing_train.csv')\n",
        "df2 = pd.read_csv('/content/sample_data/california_housing_test.csv')"
      ],
      "metadata": {
        "id": "t7XqLifQcpbS"
      },
      "execution_count": null,
      "outputs": []
    },
    {
      "cell_type": "code",
      "source": [
        "df1.shape"
      ],
      "metadata": {
        "id": "WUSrv46hc05J"
      },
      "execution_count": null,
      "outputs": []
    },
    {
      "cell_type": "code",
      "source": [
        "df2.shape"
      ],
      "metadata": {
        "id": "fbUPZls_c3Hj"
      },
      "execution_count": null,
      "outputs": []
    },
    {
      "cell_type": "code",
      "source": [
        "pd.merge(df1, df2, on='latitude')"
      ],
      "metadata": {
        "id": "YUB4Y2Bzc48i"
      },
      "execution_count": null,
      "outputs": []
    },
    {
      "cell_type": "code",
      "source": [
        "df.columns"
      ],
      "metadata": {
        "id": "XqCDIiPbdL2L"
      },
      "execution_count": null,
      "outputs": []
    },
    {
      "cell_type": "code",
      "source": [
        "df.rename(columns={'sepal length (cm)': 'SepLen'}, inplace=True)"
      ],
      "metadata": {
        "id": "_yGgB4pJdWFx"
      },
      "execution_count": null,
      "outputs": []
    },
    {
      "cell_type": "code",
      "source": [
        "df1.to_csv('output.csv', index=False)"
      ],
      "metadata": {
        "id": "-yfONh74dawy"
      },
      "execution_count": null,
      "outputs": []
    },
    {
      "cell_type": "code",
      "source": [
        "df2.to_excel('output.xlsx', index=False)"
      ],
      "metadata": {
        "id": "asoMikYRdfrS"
      },
      "execution_count": null,
      "outputs": []
    },
    {
      "cell_type": "code",
      "source": [
        "df['SepLen'].mean()"
      ],
      "metadata": {
        "id": "cRh1Nj--di_r"
      },
      "execution_count": null,
      "outputs": []
    },
    {
      "cell_type": "code",
      "source": [
        "df['SepLen'].sum()"
      ],
      "metadata": {
        "id": "Bkbmcb_Odx_y"
      },
      "execution_count": null,
      "outputs": []
    },
    {
      "cell_type": "code",
      "source": [
        "df['SepLen'].max()"
      ],
      "metadata": {
        "id": "a0XTEtggdzQZ"
      },
      "execution_count": null,
      "outputs": []
    },
    {
      "cell_type": "code",
      "source": [
        "df['SepLen'].min()"
      ],
      "metadata": {
        "id": "dDg71PA6d1Dp"
      },
      "execution_count": null,
      "outputs": []
    },
    {
      "cell_type": "code",
      "source": [
        "df['SepLen'].count()"
      ],
      "metadata": {
        "id": "hmSbMOaCd2rB"
      },
      "execution_count": null,
      "outputs": []
    },
    {
      "cell_type": "code",
      "source": [
        "df['SepLen'].std()"
      ],
      "metadata": {
        "id": "JLB1qwFDd4QK"
      },
      "execution_count": null,
      "outputs": []
    },
    {
      "cell_type": "code",
      "source": [
        "df['SepLen'].var()"
      ],
      "metadata": {
        "id": "498eenxmd5yC"
      },
      "execution_count": null,
      "outputs": []
    },
    {
      "cell_type": "code",
      "source": [
        "df"
      ],
      "metadata": {
        "id": "YsbDUMvEeFBC"
      },
      "execution_count": null,
      "outputs": []
    },
    {
      "cell_type": "code",
      "source": [
        "df.pivot_table(values='SepLen', index='target')"
      ],
      "metadata": {
        "id": "bFbXgiBvd68i"
      },
      "execution_count": null,
      "outputs": []
    },
    {
      "cell_type": "code",
      "source": [
        "def add_bonus(m):\n",
        "    return m + 0.01\n",
        "\n",
        "df['New_SepLen'] = df['SepLen'].apply(add_bonus)"
      ],
      "metadata": {
        "id": "jYPqmF4QeU-C"
      },
      "execution_count": null,
      "outputs": []
    },
    {
      "cell_type": "code",
      "source": [
        "df['New_SepWid'] = df['sepal width (cm)'].apply(lambda x: x+0.01)"
      ],
      "metadata": {
        "id": "Le9dltOmenQT"
      },
      "execution_count": null,
      "outputs": []
    },
    {
      "cell_type": "code",
      "source": [
        "df['SepLen'].plot(kind='bar')"
      ],
      "metadata": {
        "id": "HcLP87VDex3b"
      },
      "execution_count": null,
      "outputs": []
    }
  ]
}