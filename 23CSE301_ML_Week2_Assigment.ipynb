{
  "nbformat": 4,
  "nbformat_minor": 0,
  "metadata": {
    "colab": {
      "provenance": []
    },
    "kernelspec": {
      "name": "python3",
      "display_name": "Python 3"
    },
    "language_info": {
      "name": "python"
    }
  },
  "cells": [
    {
      "cell_type": "markdown",
      "source": [
        "**Enter your code for Exercise 1 in the following cells (add as many cell as you need)**\n",
        "\n",
        "---\n",
        "\n"
      ],
      "metadata": {
        "id": "ka4UKZX6w9tu"
      }
    },
    {
      "cell_type": "code",
      "source": [],
      "metadata": {
        "id": "crUBqTksw9_8"
      },
      "execution_count": null,
      "outputs": []
    },
    {
      "cell_type": "code",
      "source": [],
      "metadata": {
        "id": "vC8SoIOOxL6N"
      },
      "execution_count": null,
      "outputs": []
    },
    {
      "cell_type": "code",
      "source": [],
      "metadata": {
        "id": "77LNhTVbxMCd"
      },
      "execution_count": null,
      "outputs": []
    },
    {
      "cell_type": "code",
      "source": [],
      "metadata": {
        "id": "_NzJErdkxRNM"
      },
      "execution_count": null,
      "outputs": []
    },
    {
      "cell_type": "markdown",
      "source": [
        "**Enter your code for Exercise 2 in the following cells (add as many cell as you need)**"
      ],
      "metadata": {
        "id": "yIjvuD_9xMa1"
      }
    },
    {
      "cell_type": "code",
      "source": [],
      "metadata": {
        "id": "VIM7-5iDxQS9"
      },
      "execution_count": null,
      "outputs": []
    },
    {
      "cell_type": "code",
      "source": [],
      "metadata": {
        "id": "4-ZGyR3dxQdN"
      },
      "execution_count": null,
      "outputs": []
    },
    {
      "cell_type": "code",
      "source": [],
      "metadata": {
        "id": "koA4trSexQm9"
      },
      "execution_count": null,
      "outputs": []
    },
    {
      "cell_type": "code",
      "source": [],
      "metadata": {
        "id": "UUOp3PYGxQrN"
      },
      "execution_count": null,
      "outputs": []
    }
  ]
}