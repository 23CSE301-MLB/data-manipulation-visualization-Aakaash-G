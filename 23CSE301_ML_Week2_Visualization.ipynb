{
  "nbformat": 4,
  "nbformat_minor": 0,
  "metadata": {
    "colab": {
      "provenance": []
    },
    "kernelspec": {
      "name": "python3",
      "display_name": "Python 3"
    },
    "language_info": {
      "name": "python"
    }
  },
  "cells": [
    {
      "cell_type": "code",
      "execution_count": null,
      "metadata": {
        "id": "8Z2VoAFBxy7d"
      },
      "outputs": [],
      "source": [
        "import seaborn as sns\n",
        "import matplotlib.pyplot as plt\n",
        "\n",
        "# Load Titanic dataset\n",
        "df = sns.load_dataset('titanic')"
      ]
    },
    {
      "cell_type": "code",
      "source": [
        "df"
      ],
      "metadata": {
        "id": "ORalK1eE1MfD"
      },
      "execution_count": null,
      "outputs": []
    },
    {
      "cell_type": "code",
      "source": [
        "sns.histplot(df['age'], bins=20, color='red')\n",
        "plt.show()"
      ],
      "metadata": {
        "id": "iGqqke5Z0nYj"
      },
      "execution_count": null,
      "outputs": []
    },
    {
      "cell_type": "code",
      "source": [
        "sns.histplot(data=df, x='age', hue='pclass', bins=20, palette='Set2')\n",
        "plt.show()"
      ],
      "metadata": {
        "id": "_1-nGQcc1HRS"
      },
      "execution_count": null,
      "outputs": []
    },
    {
      "cell_type": "code",
      "source": [
        "import matplotlib.pyplot as plt\n",
        "\n",
        "plt.hist(df['age'], bins=20)\n",
        "plt.xlabel('Age')\n",
        "plt.ylabel('Frequency')\n",
        "plt.title('Age Distribution')\n",
        "plt.show()"
      ],
      "metadata": {
        "id": "guxIwlJ302j6"
      },
      "execution_count": null,
      "outputs": []
    },
    {
      "cell_type": "code",
      "source": [
        "sns.countplot(x='sex', data=df)\n",
        "plt.show()"
      ],
      "metadata": {
        "id": "hlN0ebr82VpC"
      },
      "execution_count": null,
      "outputs": []
    },
    {
      "cell_type": "code",
      "source": [
        "# Count the occurrences of each category in 'sex'\n",
        "counts = df['sex'].value_counts()\n",
        "\n",
        "# Plot using Matplotlib\n",
        "plt.bar(counts.index, counts.values, color='skyblue', edgecolor='black')\n",
        "plt.xlabel('Sex')\n",
        "plt.ylabel('Count')\n",
        "plt.title('Count of Each Sex Category')\n",
        "plt.show()"
      ],
      "metadata": {
        "id": "dewQw_B02iVb"
      },
      "execution_count": null,
      "outputs": []
    },
    {
      "cell_type": "code",
      "source": [
        "df['class'].value_counts().plot.pie(autopct='%1.1f%%')\n",
        "plt.ylabel('')\n",
        "plt.show()"
      ],
      "metadata": {
        "id": "WlQaGei73RK8"
      },
      "execution_count": null,
      "outputs": []
    },
    {
      "cell_type": "code",
      "source": [
        "sns.boxplot(x='class', y='age', data=df)\n",
        "plt.show()"
      ],
      "metadata": {
        "id": "Vdzrqyo53iel"
      },
      "execution_count": null,
      "outputs": []
    },
    {
      "cell_type": "code",
      "source": [
        "sns.violinplot(x='sex', y='age', data=df)\n",
        "plt.show()"
      ],
      "metadata": {
        "id": "4f5AvkDU3039"
      },
      "execution_count": null,
      "outputs": []
    },
    {
      "cell_type": "code",
      "source": [
        "sns.scatterplot(x='age', y='fare', hue='survived', data=df)\n",
        "plt.show()"
      ],
      "metadata": {
        "id": "az8EoNo04GYV"
      },
      "execution_count": null,
      "outputs": []
    },
    {
      "cell_type": "code",
      "source": [
        "sns.pairplot(df[['age', 'fare', 'survived']], hue='survived')\n",
        "plt.show()"
      ],
      "metadata": {
        "id": "OxGdovCs4XY_"
      },
      "execution_count": null,
      "outputs": []
    },
    {
      "cell_type": "code",
      "source": [
        "numeric_df = df.select_dtypes(include=['number'])\n",
        "sns.heatmap(numeric_df.corr(), annot=True, cmap='coolwarm')\n",
        "plt.show()"
      ],
      "metadata": {
        "id": "IbVC38XD4rZm"
      },
      "execution_count": null,
      "outputs": []
    },
    {
      "cell_type": "code",
      "source": [
        "sns.lineplot(x='age', y='fare', data=df)\n",
        "plt.show()"
      ],
      "metadata": {
        "id": "qL3TzjwA5NAG"
      },
      "execution_count": null,
      "outputs": []
    },
    {
      "cell_type": "code",
      "source": [
        "sns.swarmplot(x='class', y='age', data=df)\n",
        "plt.show()"
      ],
      "metadata": {
        "id": "q7WGi7mM5cQn"
      },
      "execution_count": null,
      "outputs": []
    },
    {
      "cell_type": "code",
      "source": [
        "g = sns.FacetGrid(df, col='sex')\n",
        "g.map(sns.histplot, 'age')\n",
        "plt.show()"
      ],
      "metadata": {
        "id": "Uz9knfVw6fkf"
      },
      "execution_count": null,
      "outputs": []
    }
  ]
}